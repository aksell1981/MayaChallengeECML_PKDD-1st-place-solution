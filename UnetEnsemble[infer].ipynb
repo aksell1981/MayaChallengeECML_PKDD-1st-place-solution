{
 "cells": [
  {
   "cell_type": "code",
   "execution_count": 2,
   "metadata": {},
   "outputs": [
    {
     "data": {
      "text/plain": [
       "'0.5.2'"
      ]
     },
     "execution_count": 2,
     "metadata": {},
     "output_type": "execute_result"
    }
   ],
   "source": [
    "import numpy as np\n",
    "import pandas as pd\n",
    "import pathlib, sys, os, random, time,glob\n",
    "import  cv2, gc\n",
    "from pathlib import Path\n",
    "import matplotlib.pyplot as plt\n",
    "%matplotlib inline\n",
    "import warnings\n",
    "warnings.filterwarnings('ignore')\n",
    "from tqdm.notebook import tqdm\n",
    "import torch\n",
    "from fastai.vision.all import *\n",
    "from torch.utils.data import Dataset, DataLoader\n",
    "from albumentations.pytorch import ToTensorV2\n",
    "import albumentations as A\n",
    "import torchvision\n",
    "from scipy import sparse\n",
    "from PIL import Image, ImageOps\n",
    "import zipfile\n",
    "from Network import *"
   ]
  },
  {
   "cell_type": "code",
   "execution_count": 3,
   "metadata": {},
   "outputs": [
    {
     "name": "stdout",
     "output_type": "stream",
     "text": [
      "['resnext101_32x4d_swsl_fold0_aguada.pth', 'resnext101_32x4d_swsl_fold1_aguada.pth', 'resnext101_32x4d_swsl_fold4_aguada.pth', 'resnext101_32x4d_swsl_fold3_aguada.pth', 'resnext101_32x4d_swsl_fold2_aguada.pth']\n",
      "5\n"
     ]
    }
   ],
   "source": [
    "class CONFIG():\n",
    "    data_path = '/home/alex/Github/Maya/DiscoverMayaChallenge_data/lidar_test/'\n",
    "    out_dir='/home/alex/Github/Maya/predictions_mpV2'\n",
    "    zip_dir='/home/alex/Github/Maya/out'\n",
    "    MODELS1='/home/alex/Github/Maya_Pytorch/AguadaBest/'  \n",
    "    MODELS2='/home/alex/Github/Maya_Pytorch/Unext/buildingV1/models/'\n",
    "    MODELS3='/home/alex/Github/Maya_Pytorch/Unext/platformV1/models/'\n",
    "    MODELS4='/home/alex/Github/Maya_Pytorch/Unext/buildingV2/models/'  \n",
    "    MODELS5='/home/alex/Github/Maya_Pytorch/Unext/platformV2/models/'  \n",
    "    CLASSES=['aguada','building','platform']\n",
    "    TH =[0.5,0.5,0.5] # sequense: 'aguada','building','platform'\n",
    "    stats = np.array([0.485, 0.456, 0.406]), np.array([0.229, 0.224, 0.225])\n",
    "    batch_size = 4 \n",
    "    \n",
    "cfg = CONFIG()\n",
    "print(os.listdir(cfg.MODELS1))   \n",
    "print(len(os.listdir(cfg.MODELS1))) "
   ]
  },
  {
   "cell_type": "code",
   "execution_count": 4,
   "metadata": {},
   "outputs": [
    {
     "data": {
      "text/plain": [
       "device(type='cuda')"
      ]
     },
     "execution_count": 4,
     "metadata": {},
     "output_type": "execute_result"
    }
   ],
   "source": [
    "device = torch.device('cuda' if torch.cuda.is_available() else 'cpu')\n",
    "device"
   ]
  },
  {
   "cell_type": "code",
   "execution_count": 5,
   "metadata": {},
   "outputs": [],
   "source": [
    "trfm = A.Compose([\n",
    "    A.Normalize(cfg.stats[0],cfg.stats[1]),\n",
    "    ToTensorV2()\n",
    "])\n",
    "\n",
    "def get_models(paths):\n",
    "    models = []\n",
    "    for path in paths:\n",
    "        state_dict = torch.load(path,map_location=torch.device('cpu'))\n",
    "        enc=path.split('/')[-1].split('_')[0]\n",
    "        encoder_name=enc+'_32x4d_swsl' \n",
    "        print('encoder_name:',encoder_name)\n",
    "        model = UneXt50(encoder_name)\n",
    "        model = nn.DataParallel(model) \n",
    "        model.load_state_dict(state_dict)\n",
    "        model.float()\n",
    "        model.eval()\n",
    "        model.to(device)\n",
    "        models.append(model)\n",
    "\n",
    "    del state_dict\n",
    "    return models"
   ]
  },
  {
   "cell_type": "code",
   "execution_count": 6,
   "metadata": {},
   "outputs": [
    {
     "data": {
      "text/html": [
       "<div>\n",
       "<style scoped>\n",
       "    .dataframe tbody tr th:only-of-type {\n",
       "        vertical-align: middle;\n",
       "    }\n",
       "\n",
       "    .dataframe tbody tr th {\n",
       "        vertical-align: top;\n",
       "    }\n",
       "\n",
       "    .dataframe thead th {\n",
       "        text-align: right;\n",
       "    }\n",
       "</style>\n",
       "<table border=\"1\" class=\"dataframe\">\n",
       "  <thead>\n",
       "    <tr style=\"text-align: right;\">\n",
       "      <th></th>\n",
       "      <th>fn</th>\n",
       "      <th>id</th>\n",
       "    </tr>\n",
       "  </thead>\n",
       "  <tbody>\n",
       "    <tr>\n",
       "      <th>0</th>\n",
       "      <td>tile_1782_lidar.tif</td>\n",
       "      <td>1782</td>\n",
       "    </tr>\n",
       "    <tr>\n",
       "      <th>1</th>\n",
       "      <td>tile_2042_lidar.tif</td>\n",
       "      <td>2042</td>\n",
       "    </tr>\n",
       "    <tr>\n",
       "      <th>2</th>\n",
       "      <td>tile_1899_lidar.tif</td>\n",
       "      <td>1899</td>\n",
       "    </tr>\n",
       "    <tr>\n",
       "      <th>3</th>\n",
       "      <td>tile_1925_lidar.tif</td>\n",
       "      <td>1925</td>\n",
       "    </tr>\n",
       "    <tr>\n",
       "      <th>4</th>\n",
       "      <td>tile_1829_lidar.tif</td>\n",
       "      <td>1829</td>\n",
       "    </tr>\n",
       "    <tr>\n",
       "      <th>...</th>\n",
       "      <td>...</td>\n",
       "      <td>...</td>\n",
       "    </tr>\n",
       "    <tr>\n",
       "      <th>324</th>\n",
       "      <td>tile_1957_lidar.tif</td>\n",
       "      <td>1957</td>\n",
       "    </tr>\n",
       "    <tr>\n",
       "      <th>325</th>\n",
       "      <td>tile_2093_lidar.tif</td>\n",
       "      <td>2093</td>\n",
       "    </tr>\n",
       "    <tr>\n",
       "      <th>326</th>\n",
       "      <td>tile_1879_lidar.tif</td>\n",
       "      <td>1879</td>\n",
       "    </tr>\n",
       "    <tr>\n",
       "      <th>327</th>\n",
       "      <td>tile_2018_lidar.tif</td>\n",
       "      <td>2018</td>\n",
       "    </tr>\n",
       "    <tr>\n",
       "      <th>328</th>\n",
       "      <td>tile_2068_lidar.tif</td>\n",
       "      <td>2068</td>\n",
       "    </tr>\n",
       "  </tbody>\n",
       "</table>\n",
       "<p>329 rows × 2 columns</p>\n",
       "</div>"
      ],
      "text/plain": [
       "                      fn    id\n",
       "0    tile_1782_lidar.tif  1782\n",
       "1    tile_2042_lidar.tif  2042\n",
       "2    tile_1899_lidar.tif  1899\n",
       "3    tile_1925_lidar.tif  1925\n",
       "4    tile_1829_lidar.tif  1829\n",
       "..                   ...   ...\n",
       "324  tile_1957_lidar.tif  1957\n",
       "325  tile_2093_lidar.tif  2093\n",
       "326  tile_1879_lidar.tif  1879\n",
       "327  tile_2018_lidar.tif  2018\n",
       "328  tile_2068_lidar.tif  2068\n",
       "\n",
       "[329 rows x 2 columns]"
      ]
     },
     "execution_count": 6,
     "metadata": {},
     "output_type": "execute_result"
    }
   ],
   "source": [
    "ids=[]\n",
    "fns=os.listdir(cfg.data_path)\n",
    "for fn in fns:\n",
    "    id=fn.split('_')[1]\n",
    "    ids.append(int(id))\n",
    "df=pd.DataFrame({'fn':fns,'id':ids})\n",
    "df"
   ]
  },
  {
   "cell_type": "code",
   "execution_count": 7,
   "metadata": {},
   "outputs": [],
   "source": [
    "class MayaDataset(Dataset):    \n",
    "    def __init__(self, img_dir, df,transform=None):\n",
    "        ids=df.id.values\n",
    "        self.img_dir = img_dir\n",
    "        self.transform = transform      \n",
    "        self.df=df\n",
    "        self.ids=ids\n",
    "        print('len=',len(self.ids))\n",
    "\n",
    "    def __getitem__(self, index):\n",
    "        id=self.ids[index]\n",
    "        fn = 'tile_'+str(id)+'_lidar.tif'\n",
    "        image=cv2.imread(os.path.join(self.img_dir, fn))\n",
    "        image = cv2.cvtColor(image, cv2.COLOR_BGR2RGB)\n",
    "        if self.transform:\n",
    "            augmented = self.transform(image=image)\n",
    "            image = augmented['image']\n",
    "        return image,id \n",
    "        \n",
    "    def __len__(self):\n",
    "        return len(self.ids)"
   ]
  },
  {
   "cell_type": "code",
   "execution_count": 8,
   "metadata": {},
   "outputs": [],
   "source": [
    "#iterator like wrapper that returns predicted masks\n",
    "class Model_pred:\n",
    "    def __init__(self, models, dl, tta:bool=True, half:bool=False):\n",
    "        self.models = models\n",
    "        self.dl = dl\n",
    "        self.tta = tta\n",
    "        self.half = half\n",
    "        \n",
    "    def __iter__(self):\n",
    "        count=0\n",
    "        with torch.no_grad():\n",
    "            for x,y in iter(self.dl):\n",
    "                if ((y>=0).sum() > 0): #exclude empty images\n",
    "                    x = x[y>=0].to(device)\n",
    "                    y = y[y>=0]\n",
    "                    if self.half: x = x.half()\n",
    "                    py = None\n",
    "                    for model in self.models:\n",
    "                        p = model(x)\n",
    "                        p = torch.sigmoid(p).detach()\n",
    "                        if py is None: py = p\n",
    "                        else: py += p\n",
    "                    if self.tta:\n",
    "                        #x,y,xy flips as TTA\n",
    "                        flips = [[-1],[-2],[-2,-1]]\n",
    "                        for f in flips:\n",
    "                            xf = torch.flip(x,f)\n",
    "                            for model in self.models:\n",
    "                                p = model(xf)\n",
    "                                p = torch.flip(p,f)\n",
    "                                py += torch.sigmoid(p).detach()\n",
    "                        py /= (1+len(flips))        \n",
    "                    py /= len(self.models)\n",
    "                    py = py.permute(0,2,3,1).float().cpu()\n",
    "                    batch_size = len(py)\n",
    "                    for i in range(batch_size):\n",
    "                        yield py[i],y[i]\n",
    "                        count += 1\n",
    "                    \n",
    "        count=0\n",
    "    def __len__(self):\n",
    "        return len(self.dl.dataset)"
   ]
  },
  {
   "cell_type": "code",
   "execution_count": 10,
   "metadata": {},
   "outputs": [
    {
     "name": "stdout",
     "output_type": "stream",
     "text": [
      "len= 329\n",
      "mpath: 5 aguada\n",
      "encoder_name: resnext101_32x4d_swsl\n"
     ]
    },
    {
     "name": "stderr",
     "output_type": "stream",
     "text": [
      "Using cache found in /home/alex/.cache/torch/hub/facebookresearch_semi-supervised-ImageNet1K-models_master\n"
     ]
    },
    {
     "name": "stdout",
     "output_type": "stream",
     "text": [
      "encoder_name: resnext101_32x4d_swsl\n"
     ]
    },
    {
     "name": "stderr",
     "output_type": "stream",
     "text": [
      "Using cache found in /home/alex/.cache/torch/hub/facebookresearch_semi-supervised-ImageNet1K-models_master\n"
     ]
    },
    {
     "name": "stdout",
     "output_type": "stream",
     "text": [
      "encoder_name: resnext101_32x4d_swsl\n"
     ]
    },
    {
     "name": "stderr",
     "output_type": "stream",
     "text": [
      "Using cache found in /home/alex/.cache/torch/hub/facebookresearch_semi-supervised-ImageNet1K-models_master\n"
     ]
    },
    {
     "name": "stdout",
     "output_type": "stream",
     "text": [
      "encoder_name: resnext101_32x4d_swsl\n"
     ]
    },
    {
     "name": "stderr",
     "output_type": "stream",
     "text": [
      "Using cache found in /home/alex/.cache/torch/hub/facebookresearch_semi-supervised-ImageNet1K-models_master\n"
     ]
    },
    {
     "name": "stdout",
     "output_type": "stream",
     "text": [
      "encoder_name: resnext101_32x4d_swsl\n"
     ]
    },
    {
     "name": "stderr",
     "output_type": "stream",
     "text": [
      "Using cache found in /home/alex/.cache/torch/hub/facebookresearch_semi-supervised-ImageNet1K-models_master\n"
     ]
    },
    {
     "name": "stdout",
     "output_type": "stream",
     "text": [
      "len= 329\n"
     ]
    },
    {
     "data": {
      "text/html": [
       "\n",
       "    <div>\n",
       "        <style>\n",
       "            /* Turns off some styling */\n",
       "            progress {\n",
       "                /* gets rid of default border in Firefox and Opera. */\n",
       "                border: none;\n",
       "                /* Needs to be in here for Safari polyfill so background images work as expected. */\n",
       "                background-size: auto;\n",
       "            }\n",
       "            .progress-bar-interrupted, .progress-bar-interrupted::-webkit-progress-bar {\n",
       "                background: #F44336;\n",
       "            }\n",
       "        </style>\n",
       "      <progress value='329' class='' max='329' style='width:300px; height:20px; vertical-align: middle;'></progress>\n",
       "      100.00% [329/329 03:35<00:00]\n",
       "    </div>\n",
       "    "
      ],
      "text/plain": [
       "<IPython.core.display.HTML object>"
      ]
     },
     "metadata": {},
     "output_type": "display_data"
    },
    {
     "name": "stdout",
     "output_type": "stream",
     "text": [
      "mpath: 8 building\n",
      "encoder_name: resnext50_32x4d_swsl\n"
     ]
    },
    {
     "name": "stderr",
     "output_type": "stream",
     "text": [
      "Using cache found in /home/alex/.cache/torch/hub/facebookresearch_semi-supervised-ImageNet1K-models_master\n"
     ]
    },
    {
     "name": "stdout",
     "output_type": "stream",
     "text": [
      "encoder_name: resnext50_32x4d_swsl\n"
     ]
    },
    {
     "name": "stderr",
     "output_type": "stream",
     "text": [
      "Using cache found in /home/alex/.cache/torch/hub/facebookresearch_semi-supervised-ImageNet1K-models_master\n"
     ]
    },
    {
     "name": "stdout",
     "output_type": "stream",
     "text": [
      "encoder_name: resnext50_32x4d_swsl\n"
     ]
    },
    {
     "name": "stderr",
     "output_type": "stream",
     "text": [
      "Using cache found in /home/alex/.cache/torch/hub/facebookresearch_semi-supervised-ImageNet1K-models_master\n"
     ]
    },
    {
     "name": "stdout",
     "output_type": "stream",
     "text": [
      "encoder_name: resnext50_32x4d_swsl\n"
     ]
    },
    {
     "name": "stderr",
     "output_type": "stream",
     "text": [
      "Using cache found in /home/alex/.cache/torch/hub/facebookresearch_semi-supervised-ImageNet1K-models_master\n"
     ]
    },
    {
     "name": "stdout",
     "output_type": "stream",
     "text": [
      "encoder_name: resnext101_32x4d_swsl\n"
     ]
    },
    {
     "name": "stderr",
     "output_type": "stream",
     "text": [
      "Using cache found in /home/alex/.cache/torch/hub/facebookresearch_semi-supervised-ImageNet1K-models_master\n"
     ]
    },
    {
     "name": "stdout",
     "output_type": "stream",
     "text": [
      "encoder_name: resnext101_32x4d_swsl\n"
     ]
    },
    {
     "name": "stderr",
     "output_type": "stream",
     "text": [
      "Using cache found in /home/alex/.cache/torch/hub/facebookresearch_semi-supervised-ImageNet1K-models_master\n"
     ]
    },
    {
     "name": "stdout",
     "output_type": "stream",
     "text": [
      "encoder_name: resnext101_32x4d_swsl\n"
     ]
    },
    {
     "name": "stderr",
     "output_type": "stream",
     "text": [
      "Using cache found in /home/alex/.cache/torch/hub/facebookresearch_semi-supervised-ImageNet1K-models_master\n"
     ]
    },
    {
     "name": "stdout",
     "output_type": "stream",
     "text": [
      "encoder_name: resnext101_32x4d_swsl\n"
     ]
    },
    {
     "name": "stderr",
     "output_type": "stream",
     "text": [
      "Using cache found in /home/alex/.cache/torch/hub/facebookresearch_semi-supervised-ImageNet1K-models_master\n"
     ]
    },
    {
     "name": "stdout",
     "output_type": "stream",
     "text": [
      "len= 329\n"
     ]
    },
    {
     "data": {
      "text/html": [
       "\n",
       "    <div>\n",
       "        <style>\n",
       "            /* Turns off some styling */\n",
       "            progress {\n",
       "                /* gets rid of default border in Firefox and Opera. */\n",
       "                border: none;\n",
       "                /* Needs to be in here for Safari polyfill so background images work as expected. */\n",
       "                background-size: auto;\n",
       "            }\n",
       "            .progress-bar-interrupted, .progress-bar-interrupted::-webkit-progress-bar {\n",
       "                background: #F44336;\n",
       "            }\n",
       "        </style>\n",
       "      <progress value='329' class='' max='329' style='width:300px; height:20px; vertical-align: middle;'></progress>\n",
       "      100.00% [329/329 04:35<00:00]\n",
       "    </div>\n",
       "    "
      ],
      "text/plain": [
       "<IPython.core.display.HTML object>"
      ]
     },
     "metadata": {},
     "output_type": "display_data"
    },
    {
     "name": "stdout",
     "output_type": "stream",
     "text": [
      "mpath: 8 platform\n",
      "encoder_name: resnext50_32x4d_swsl\n"
     ]
    },
    {
     "name": "stderr",
     "output_type": "stream",
     "text": [
      "Using cache found in /home/alex/.cache/torch/hub/facebookresearch_semi-supervised-ImageNet1K-models_master\n"
     ]
    },
    {
     "name": "stdout",
     "output_type": "stream",
     "text": [
      "encoder_name: resnext50_32x4d_swsl\n"
     ]
    },
    {
     "name": "stderr",
     "output_type": "stream",
     "text": [
      "Using cache found in /home/alex/.cache/torch/hub/facebookresearch_semi-supervised-ImageNet1K-models_master\n"
     ]
    },
    {
     "name": "stdout",
     "output_type": "stream",
     "text": [
      "encoder_name: resnext50_32x4d_swsl\n"
     ]
    },
    {
     "name": "stderr",
     "output_type": "stream",
     "text": [
      "Using cache found in /home/alex/.cache/torch/hub/facebookresearch_semi-supervised-ImageNet1K-models_master\n"
     ]
    },
    {
     "name": "stdout",
     "output_type": "stream",
     "text": [
      "encoder_name: resnext50_32x4d_swsl\n"
     ]
    },
    {
     "name": "stderr",
     "output_type": "stream",
     "text": [
      "Using cache found in /home/alex/.cache/torch/hub/facebookresearch_semi-supervised-ImageNet1K-models_master\n"
     ]
    },
    {
     "name": "stdout",
     "output_type": "stream",
     "text": [
      "encoder_name: resnext101_32x4d_swsl\n"
     ]
    },
    {
     "name": "stderr",
     "output_type": "stream",
     "text": [
      "Using cache found in /home/alex/.cache/torch/hub/facebookresearch_semi-supervised-ImageNet1K-models_master\n"
     ]
    },
    {
     "name": "stdout",
     "output_type": "stream",
     "text": [
      "encoder_name: resnext101_32x4d_swsl\n"
     ]
    },
    {
     "name": "stderr",
     "output_type": "stream",
     "text": [
      "Using cache found in /home/alex/.cache/torch/hub/facebookresearch_semi-supervised-ImageNet1K-models_master\n"
     ]
    },
    {
     "name": "stdout",
     "output_type": "stream",
     "text": [
      "encoder_name: resnext101_32x4d_swsl\n"
     ]
    },
    {
     "name": "stderr",
     "output_type": "stream",
     "text": [
      "Using cache found in /home/alex/.cache/torch/hub/facebookresearch_semi-supervised-ImageNet1K-models_master\n"
     ]
    },
    {
     "name": "stdout",
     "output_type": "stream",
     "text": [
      "encoder_name: resnext101_32x4d_swsl\n"
     ]
    },
    {
     "name": "stderr",
     "output_type": "stream",
     "text": [
      "Using cache found in /home/alex/.cache/torch/hub/facebookresearch_semi-supervised-ImageNet1K-models_master\n"
     ]
    },
    {
     "name": "stdout",
     "output_type": "stream",
     "text": [
      "len= 329\n"
     ]
    },
    {
     "data": {
      "text/html": [
       "\n",
       "    <div>\n",
       "        <style>\n",
       "            /* Turns off some styling */\n",
       "            progress {\n",
       "                /* gets rid of default border in Firefox and Opera. */\n",
       "                border: none;\n",
       "                /* Needs to be in here for Safari polyfill so background images work as expected. */\n",
       "                background-size: auto;\n",
       "            }\n",
       "            .progress-bar-interrupted, .progress-bar-interrupted::-webkit-progress-bar {\n",
       "                background: #F44336;\n",
       "            }\n",
       "        </style>\n",
       "      <progress value='329' class='' max='329' style='width:300px; height:20px; vertical-align: middle;'></progress>\n",
       "      100.00% [329/329 04:37<00:00]\n",
       "    </div>\n",
       "    "
      ],
      "text/plain": [
       "<IPython.core.display.HTML object>"
      ]
     },
     "metadata": {},
     "output_type": "display_data"
    }
   ],
   "source": [
    "os.makedirs(cfg.out_dir, exist_ok=True)\n",
    "os.makedirs(cfg.zip_dir, exist_ok=True)\n",
    "OUT = {}\n",
    "ds=MayaDataset(cfg.data_path,df,trfm)\n",
    "dl = DataLoader(ds,cfg.batch_size,num_workers=0,shuffle=False,pin_memory=True)\n",
    "for i in range(len(cfg.CLASSES)):\n",
    "    OUT[i] = []\n",
    "    prefix=cfg.CLASSES[i]\n",
    "    mpath = glob.glob(cfg.MODELS1+'*'+prefix+'.pth')\n",
    "    mpath2 = glob.glob(cfg.MODELS2+'*'+prefix+'.pth')\n",
    "    mpath3 = glob.glob(cfg.MODELS3+'*'+prefix+'.pth')\n",
    "    mpath4 = glob.glob(cfg.MODELS4+'*'+prefix+'.pth')\n",
    "    mpath5 = glob.glob(cfg.MODELS5+'*'+prefix+'.pth')\n",
    "    mpath=mpath+mpath2+mpath3+mpath4+mpath5\n",
    "    print('mpath:',len(mpath),prefix)\n",
    "    models=get_models(mpath)\n",
    "    ds=MayaDataset(cfg.data_path,df,trfm)\n",
    "    dl = DataLoader(ds,cfg.batch_size,num_workers=0,shuffle=False,pin_memory=True)\n",
    "    mp = Model_pred(models,dl)  \n",
    "    for p in progress_bar(mp):\n",
    "        id=p[1].cpu().numpy()\n",
    "        fn=cfg.out_dir+'/tile_'+str(id)+'_mask_'+ prefix +'.png'  \n",
    "        data = p[0].squeeze(-1).float().cpu().numpy()\n",
    "        img=(255*data).astype(np.uint8)\n",
    "        cv2.imwrite(fn,img)\n",
    "        out= (data < cfg.TH[i]).astype(np.uint8)\n",
    "        img=np.logical_not(out).astype(np.uint8)\n",
    "        img_sp=sparse.csr_matrix(Image.fromarray(img*255),dtype=bool)   \n",
    "        sparse.save_npz(cfg.zip_dir+'/tile_'+str(id)+'_mask_'+ prefix +'.npz', img_sp, compressed=True)\n",
    "        OUT[i].append(out)\n",
    "        torch.cuda.empty_cache()\n",
    "        gc.collect()\n",
    "        "
   ]
  },
  {
   "cell_type": "code",
   "execution_count": 10,
   "metadata": {},
   "outputs": [
    {
     "data": {
      "text/plain": [
       "<matplotlib.image.AxesImage at 0x7f8f81577d30>"
      ]
     },
     "execution_count": 10,
     "metadata": {},
     "output_type": "execute_result"
    },
    {
     "data": {
      "image/png": "[encoded data removed]",
      "text/plain": [
       "<Figure size 432x288 with 1 Axes>"
      ]
     },
     "metadata": {
      "needs_background": "light"
     },
     "output_type": "display_data"
    }
   ],
   "source": [
    "plt.imshow(OUT[0][217],cmap='gray')"
   ]
  },
  {
   "cell_type": "code",
   "execution_count": 12,
   "metadata": {},
   "outputs": [
    {
     "data": {
      "text/plain": [
       "<matplotlib.image.AxesImage at 0x7fdbcab41100>"
      ]
     },
     "execution_count": 12,
     "metadata": {},
     "output_type": "execute_result"
    },
    {
     "data": {
      "image/png": "[encoded data removed]",
      "text/plain": [
       "<Figure size 432x288 with 1 Axes>"
      ]
     },
     "metadata": {
      "needs_background": "light"
     },
     "output_type": "display_data"
    }
   ],
   "source": [
    "plt.imshow(OUT[0][213],cmap='gray')"
   ]
  },
  {
   "cell_type": "code",
   "execution_count": 27,
   "metadata": {},
   "outputs": [
    {
     "data": {
      "text/plain": [
       "<matplotlib.image.AxesImage at 0x7f44686ab490>"
      ]
     },
     "execution_count": 27,
     "metadata": {},
     "output_type": "execute_result"
    },
    {
     "data": {
      "image/png": "[encoded data removed]",
      "text/plain": [
       "<Figure size 432x288 with 1 Axes>"
      ]
     },
     "metadata": {
      "needs_background": "light"
     },
     "output_type": "display_data"
    }
   ],
   "source": [
    "plt.imshow(OUT[1][213],cmap='gray')"
   ]
  },
  {
   "cell_type": "code",
   "execution_count": 14,
   "metadata": {},
   "outputs": [],
   "source": [
    "def zip(src, dst):\n",
    "    zf = zipfile.ZipFile(\"%s.zip\" % (dst), \"w\", zipfile.ZIP_DEFLATED)\n",
    "    abs_src = os.path.abspath(src)\n",
    "    for dirname, subdirs, files in os.walk(src):\n",
    "        for filename in files:\n",
    "            absname = os.path.abspath(os.path.join(dirname, filename))\n",
    "            arcname = absname[len(abs_src) + 1:]\n",
    "            zf.write(absname, arcname)\n",
    "    zf.close()"
   ]
  },
  {
   "cell_type": "code",
   "execution_count": 15,
   "metadata": {},
   "outputs": [],
   "source": [
    "zip(cfg.zip_dir, 'out')"
   ]
  },
  {
   "cell_type": "code",
   "execution_count": null,
   "metadata": {},
   "outputs": [],
   "source": []
  }
 ],
 "metadata": {
  "kernelspec": {
   "display_name": "Python 3",
   "language": "python",
   "name": "python3"
  },
  "language_info": {
   "codemirror_mode": {
    "name": "ipython",
    "version": 3
   },
   "file_extension": ".py",
   "mimetype": "text/x-python",
   "name": "python",
   "nbconvert_exporter": "python",
   "pygments_lexer": "ipython3",
   "version": "3.8.5"
  }
 },
 "nbformat": 4,
 "nbformat_minor": 4
}
